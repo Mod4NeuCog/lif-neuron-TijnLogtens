{
  "nbformat": 4,
  "nbformat_minor": 0,
  "metadata": {
    "colab": {
      "provenance": []
    },
    "kernelspec": {
      "name": "python3",
      "display_name": "Python 3"
    },
    "language_info": {
      "name": "python"
    }
  },
  "cells": [
    {
      "cell_type": "code",
      "source": [
        "import numpy as np\n",
        "rng = np.random.default_rng(42)"
      ],
      "metadata": {
        "id": "kFOGDrgUxst4"
      },
      "execution_count": 1,
      "outputs": []
    },
    {
      "cell_type": "code",
      "execution_count": 22,
      "metadata": {
        "id": "EPf73H21w5sK"
      },
      "outputs": [],
      "source": [
        "class State():\n",
        "  def __init__(self, p_g, reward, quiter):\n",
        "    self.p_g = p_g\n",
        "    self.p_b = 1 - self.p_g\n",
        "    self.reward = reward\n",
        "    self.quiter = quiter\n",
        "    assert self.p_g + self.p_b == 1\n",
        "  \n",
        "  def get_succes(self):\n",
        "    res = rng.random()\n",
        "    if res <= self.p_g:\n",
        "      return True\n",
        "    else:\n",
        "      return False\n",
        "\n",
        "  def get_prob(self):\n",
        "    return self.p_g\n",
        "    \n",
        "  def get_reward(self):\n",
        "    return self.reward\n",
        "  \n",
        "  def get_quit(self):\n",
        "    return self.quiter"
      ]
    },
    {
      "cell_type": "code",
      "source": [
        "class MC():\n",
        "  def __init__(self, states):\n",
        "    self.chain = states\n",
        "\n",
        "  def calc_reward(self, choices):\n",
        "    sum = 0\n",
        "    for i in range(len(choices)):\n",
        "      if choices[i] == False:\n",
        "        sum += self.chain[i].get_quit()\n",
        "        break\n",
        "      else:\n",
        "        if self.chain[i].get_succes():\n",
        "          sum += self.chain[i].get_reward()\n",
        "        else:\n",
        "          break\n",
        "    return sum"
      ],
      "metadata": {
        "id": "uA4mO1bN2YFT"
      },
      "execution_count": 48,
      "outputs": []
    },
    {
      "cell_type": "code",
      "source": [
        "prob = [0.9, 0.75, 0.5, 0.1]\n",
        "rewards = [100, 1000, 10000, 50000]\n",
        "quiter = [0, 100, 1100, 11100]\n",
        "states = []\n",
        "for i in range(len(prob)):\n",
        "  states.append(State(prob[i], rewards[i], quiter[i]))"
      ],
      "metadata": {
        "id": "TB-F-NfNyfxR"
      },
      "execution_count": 49,
      "outputs": []
    },
    {
      "cell_type": "code",
      "source": [
        "q = 0.5\n",
        "choices = np.random.choice(a=[True, False], size=len(prob), p=[q, 1-q]) "
      ],
      "metadata": {
        "id": "8VhDWGqH4nB5"
      },
      "execution_count": 65,
      "outputs": []
    },
    {
      "cell_type": "code",
      "source": [
        "chain = MC(states)"
      ],
      "metadata": {
        "id": "Cx20mtn49z1j"
      },
      "execution_count": 68,
      "outputs": []
    },
    {
      "cell_type": "markdown",
      "source": [
        "Test playability of chain"
      ],
      "metadata": {
        "id": "-K74hgAW-yK9"
      }
    },
    {
      "cell_type": "code",
      "source": [
        "choices"
      ],
      "metadata": {
        "colab": {
          "base_uri": "https://localhost:8080/"
        },
        "id": "UNdfRwy5-JNR",
        "outputId": "9d0071b2-4647-4906-c7ba-1645189dfdf6"
      },
      "execution_count": 69,
      "outputs": [
        {
          "output_type": "execute_result",
          "data": {
            "text/plain": [
              "array([ True,  True, False,  True])"
            ]
          },
          "metadata": {},
          "execution_count": 69
        }
      ]
    },
    {
      "cell_type": "code",
      "source": [
        "chain.calc_reward(choices)"
      ],
      "metadata": {
        "colab": {
          "base_uri": "https://localhost:8080/"
        },
        "id": "w5INQVCA97-M",
        "outputId": "bbc1d608-54e0-444c-f9cd-3a71c6911fe6"
      },
      "execution_count": 70,
      "outputs": [
        {
          "output_type": "execute_result",
          "data": {
            "text/plain": [
              "100"
            ]
          },
          "metadata": {},
          "execution_count": 70
        }
      ]
    },
    {
      "cell_type": "markdown",
      "source": [
        "Now we want to calculate the q values for all potential policies. Therefore we will calculate a matrix for every state-action pair and update the q values using the known function based on their expected value."
      ],
      "metadata": {
        "id": "4E9fO3ru41ER"
      }
    },
    {
      "cell_type": "code",
      "source": [
        "options = [True, False]\n",
        "Q = np.zeros((len(rewards)-1, len(options))) # Amount of states by play or quit"
      ],
      "metadata": {
        "id": "OyBWUaMA5OiL"
      },
      "execution_count": 15,
      "outputs": []
    },
    {
      "cell_type": "code",
      "source": [
        "ite = 3\n",
        "Q[0, 0] = states[0].get_reward()\n",
        "g = 0.99\n",
        "for n in range(ite):\n",
        "  Qn = Q.copy()\n",
        "  for i in range(len(states)-2):\n",
        "    p = states[i+1].get_prob()\n",
        "    r0 = states[i].get_reward()\n",
        "    r1 = states[i].get_quit() \n",
        "    qp = max(Qn[i+1])\n",
        "    Qn[i] = p * (r0+g * qp) + (1-p) * (r1+g*qp)\n",
        "  print(Qn)"
      ],
      "metadata": {
        "colab": {
          "base_uri": "https://localhost:8080/"
        },
        "id": "dPjv1GYr-2lo",
        "outputId": "5904bcb9-e0bb-4b9e-ce12-dcfca05bc651"
      },
      "execution_count": 71,
      "outputs": [
        {
          "output_type": "stream",
          "name": "stdout",
          "text": [
            "[[ 1065.  1065.]\n",
            " [10450. 10450.]\n",
            " [10000.  1100.]\n",
            " [50000. 11100.]]\n",
            "[[ 1065.  1065.]\n",
            " [10450. 10450.]\n",
            " [10000.  1100.]\n",
            " [50000. 11100.]]\n",
            "[[ 1065.  1065.]\n",
            " [10450. 10450.]\n",
            " [10000.  1100.]\n",
            " [50000. 11100.]]\n"
          ]
        }
      ]
    },
    {
      "cell_type": "code",
      "source": [
        "# Calculate q values\n",
        "for n in range(3):\n",
        "  Qn = Q.copy()\n",
        "  Qn[0, 0] = rewards[0] # prob is 1\n",
        "  for i in range(1,len(Q)):\n",
        "    Qn[i,0] = states[i].get_reward()\n",
        "    Qn[i,1] = states[i].get_quit()\n",
        "  print(Q)"
      ],
      "metadata": {
        "id": "YSGCzrGO5dhf"
      },
      "execution_count": null,
      "outputs": []
    }
  ]
}