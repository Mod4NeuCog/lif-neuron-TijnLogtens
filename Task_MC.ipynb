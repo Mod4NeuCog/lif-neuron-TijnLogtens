{
  "nbformat": 4,
  "nbformat_minor": 0,
  "metadata": {
    "colab": {
      "provenance": []
    },
    "kernelspec": {
      "name": "python3",
      "display_name": "Python 3"
    },
    "language_info": {
      "name": "python"
    }
  },
  "cells": [
    {
      "cell_type": "code",
      "source": [
        "import numpy as np\n",
        "rng = np.random.default_rng(42)"
      ],
      "metadata": {
        "id": "kFOGDrgUxst4"
      },
      "execution_count": 8,
      "outputs": []
    },
    {
      "cell_type": "code",
      "execution_count": 40,
      "metadata": {
        "id": "EPf73H21w5sK"
      },
      "outputs": [],
      "source": [
        "class State():\n",
        "  def __init__(self, p_g, reward, quiter):\n",
        "    self.p_g = p_g\n",
        "    self.p_b = 1 - self.p_g\n",
        "    self.reward = reward\n",
        "    self.quiter = quiter\n",
        "    assert self.p_g + self.p_b == 1\n",
        "  \n",
        "  def get_succes(self):\n",
        "    res = rng.random()\n",
        "    if res <= self.p_g:\n",
        "      return True\n",
        "    else:\n",
        "      return False\n",
        "\n",
        "  def get_reward(self):\n",
        "    return self.reward\n",
        "  \n",
        "  def quit(self):\n",
        "    return self.quiter"
      ]
    },
    {
      "cell_type": "code",
      "source": [
        "class MC():\n",
        "  def __init__(self, states):\n",
        "    self.chain = states\n",
        "\n",
        "  def calc_reward(self, choices):\n",
        "    sum = 0\n",
        "    for i in range(len(choices)):\n",
        "      if choices[i] == False:\n",
        "        sum += self.chain[i].quit()\n",
        "        break\n",
        "      else:\n",
        "        if self.chain[i].get_succes():\n",
        "          sum += self.chain[i].get_reward()\n",
        "        else:\n",
        "          break\n",
        "    return sum"
      ],
      "metadata": {
        "id": "uA4mO1bN2YFT"
      },
      "execution_count": 35,
      "outputs": []
    },
    {
      "cell_type": "code",
      "source": [
        "prob = [1, 0.9, 0.75, 0.5, 0.1]\n",
        "rewards = [100, 1000, 10000, 50000, 61100]\n",
        "quiter = [0, 100, 1100, 11100, 61100]\n",
        "states = []\n",
        "for i in range(len(prob)):\n",
        "  states.append(State(prob[i], rewards[i]))"
      ],
      "metadata": {
        "id": "TB-F-NfNyfxR"
      },
      "execution_count": 27,
      "outputs": []
    },
    {
      "cell_type": "code",
      "source": [
        "q = 0.5\n",
        "choices = np.random.choice(a=[True, False], size=len(prob), p=[q, 1-q]) "
      ],
      "metadata": {
        "id": "8VhDWGqH4nB5"
      },
      "execution_count": 37,
      "outputs": []
    },
    {
      "cell_type": "code",
      "source": [
        "chaaaain = MC(states)"
      ],
      "metadata": {
        "id": "Cx20mtn49z1j"
      },
      "execution_count": 36,
      "outputs": []
    },
    {
      "cell_type": "code",
      "source": [
        "choices"
      ],
      "metadata": {
        "colab": {
          "base_uri": "https://localhost:8080/"
        },
        "id": "UNdfRwy5-JNR",
        "outputId": "702dd373-ea66-4656-c642-e7b6f1fd4a97"
      },
      "execution_count": 38,
      "outputs": [
        {
          "output_type": "execute_result",
          "data": {
            "text/plain": [
              "array([ True,  True,  True,  True, False])"
            ]
          },
          "metadata": {},
          "execution_count": 38
        }
      ]
    },
    {
      "cell_type": "code",
      "source": [
        "chaaaain.calc_reward(choices)"
      ],
      "metadata": {
        "colab": {
          "base_uri": "https://localhost:8080/"
        },
        "id": "w5INQVCA97-M",
        "outputId": "658bfb04-0657-4294-d51a-664dfcfbf7ac"
      },
      "execution_count": 39,
      "outputs": [
        {
          "output_type": "stream",
          "name": "stdout",
          "text": [
            "jip\n"
          ]
        },
        {
          "output_type": "execute_result",
          "data": {
            "text/plain": [
              "11100"
            ]
          },
          "metadata": {},
          "execution_count": 39
        }
      ]
    }
  ]
}