{
  "nbformat": 4,
  "nbformat_minor": 0,
  "metadata": {
    "colab": {
      "provenance": []
    },
    "kernelspec": {
      "name": "python3",
      "display_name": "Python 3"
    },
    "language_info": {
      "name": "python"
    }
  },
  "cells": [
    {
      "cell_type": "markdown",
      "source": [
        "A neuron with a sigmoid function for its activation."
      ],
      "metadata": {
        "id": "1OoO2sK7_Q6M"
      }
    },
    {
      "cell_type": "code",
      "source": [
        "# Imports\n",
        "import numpy as np\n",
        "import matplotlib.pyplot as plt"
      ],
      "metadata": {
        "id": "ERu9kVYy_3Xz"
      },
      "execution_count": 1,
      "outputs": []
    },
    {
      "cell_type": "code",
      "execution_count": 2,
      "metadata": {
        "id": "ouBxFHAl-ZMk"
      },
      "outputs": [],
      "source": [
        "def sigmoid(t):\n",
        "  return(1/(1+np.exp(-t)))"
      ]
    },
    {
      "cell_type": "code",
      "source": [
        "def LIF(V, ref, I=1, C=1, R=40, V_th=10, abs_ref=2):\n",
        "  # Input current\n",
        "  # I = nA\n",
        "\n",
        "  # Capacitance and leak resistance\n",
        "  # C = nF\n",
        "  # R = M ohms\n",
        "\n",
        "  # I & F implementation dV/dt = - V/RC + I/C\n",
        "  # Using h = 1 ms step size, Euler method\n",
        "\n",
        "  # Absolute refractory period lasts abs_ref turns\n",
        "  # V_th = mV spike threshold\n",
        "\n",
        "  if not ref:\n",
        "    V = V - (V/(R*C)) + (I/C)\n",
        "  else:\n",
        "    ref -= 1\n",
        "    V = 0.2 * V_th # reset voltage\n",
        "   \n",
        "  if V > V_th:\n",
        "    V = 50 # emit spike\n",
        "    ref = abs_ref # set refractory counter\n",
        "  \n",
        "  return V, ref"
      ],
      "metadata": {
        "id": "74vF4_4nGU6_"
      },
      "execution_count": 3,
      "outputs": []
    },
    {
      "cell_type": "code",
      "source": [
        "class Neuron():\n",
        "  def __init__(self, th = 0.5, function = sigmoid):\n",
        "    self.function = function\n",
        "    self.threshold = th\n",
        "  \n",
        "  def fire(self, pre_syn):\n",
        "    t = np.sum(pre_syn)\n",
        "    yeet = self.function(t)\n",
        "    return (1 if yeet >= self.threshold else 0)"
      ],
      "metadata": {
        "id": "jAilESRvAajP"
      },
      "execution_count": 4,
      "outputs": []
    },
    {
      "cell_type": "code",
      "source": [
        "class Layer():\n",
        "  def __init__(self, neurons=None, weights=None):\n",
        "    self.neurons = neurons\n",
        "    self.weights = weights\n",
        "\n",
        "    assert len(self.neurons) <= len(self.weights)\n",
        "\n",
        "  def get_layer(self):\n",
        "    return self.neurons, self.weights\n",
        "\n",
        "  def update_weights(self, new_weights):\n",
        "    assert len(self.weights) == len(new_weights)\n",
        "    self.weights = new_weights"
      ],
      "metadata": {
        "id": "T4v7CF3BXl2T"
      },
      "execution_count": 18,
      "outputs": []
    },
    {
      "cell_type": "code",
      "source": [
        "class Network():\n",
        "  def __init__(self, layers):\n",
        "    self.network_neu = []\n",
        "    self.network_wei = []\n",
        "    self.layers = layers\n",
        "    self.output = []\n",
        "    for lay in layers:\n",
        "      self.network_neu.append(lay.get_layer()[0])\n",
        "      self.network_wei.append(lay.get_layer()[1])\n",
        "\n",
        "  def get_network_neurons(self):\n",
        "    return self.network_neu\n",
        "\n",
        "  def get_network_weights(self):\n",
        "    return self.network_wei\n",
        "  \n",
        "  def get_outputs(self):\n",
        "    return self.output\n",
        "\n",
        "  def update_weights(self, new_weights):\n",
        "    assert len(self.network_wei) == len(new_weights)\n",
        "    assert len(self.network_wei[0]) == len(new_weights[0])\n",
        "    for i in range(len(new_weights)):\n",
        "      self.layers[i].update_weights(new_weights[i])\n",
        "      self.network_wei[i] = new_weights[i]\n",
        "  \n",
        "  def compute(self, input):\n",
        "    assert len(input) == len(self.network_neu[0])**2\n",
        "    activations = []\n",
        "    for i in range(self.network_neu):\n",
        "      cur_outs = []\n",
        "      for j in range(self.network_neu[i]):\n",
        "        if i == 0:\n",
        "          neuron = self.network_neu[i][j]\n",
        "          cur_outs.append(neuron.fire(input[j]))\n",
        "        else:\n",
        "          cur_outs.append(neuron.fire(activations[i-1][j]))\n",
        "      self.output.append(cur_outs)"
      ],
      "metadata": {
        "id": "T2K9ylI2Y7Nf"
      },
      "execution_count": 13,
      "outputs": []
    },
    {
      "cell_type": "code",
      "source": [
        "n1 = Neuron()\n",
        "s1 = [-3, 2]\n",
        "n1.fire(pre_syn=s1)"
      ],
      "metadata": {
        "colab": {
          "base_uri": "https://localhost:8080/"
        },
        "id": "-AzjHA43COLB",
        "outputId": "27593a1f-6b22-4da0-93b1-3bcc066d623c"
      },
      "execution_count": 7,
      "outputs": [
        {
          "output_type": "execute_result",
          "data": {
            "text/plain": [
              "0"
            ]
          },
          "metadata": {},
          "execution_count": 7
        }
      ]
    },
    {
      "cell_type": "code",
      "source": [
        "# Define network structure parameters\n",
        "neurons = []\n",
        "weights = []\n",
        "layers = []\n",
        "N_lay = 3 # number of layers\n",
        "N_neu = 3 # number of neurons PER LAYER\n",
        "\n",
        "# Build network contents\n",
        "for i in range(N_lay):\n",
        "  for j in range(N_neu):\n",
        "    neurons.append(Neuron())\n",
        "    for k in range(N_neu):\n",
        "      weights.append(np.random.random()) # Fully connected, equal sized layers\n",
        "  layers.append(Layer(neurons, weights))\n",
        "  neurons = []\n",
        "  weights = []\n",
        "\n",
        "# Construct network\n",
        "network = Network(layers)"
      ],
      "metadata": {
        "id": "Vh7gzs_Icamn",
        "colab": {
          "base_uri": "https://localhost:8080/",
          "height": 357
        },
        "outputId": "bc4afab0-1997-4323-cdb5-7d556be655c6"
      },
      "execution_count": 16,
      "outputs": [
        {
          "output_type": "error",
          "ename": "AssertionError",
          "evalue": "ignored",
          "traceback": [
            "\u001b[0;31m---------------------------------------------------------------------------\u001b[0m",
            "\u001b[0;31mAssertionError\u001b[0m                            Traceback (most recent call last)",
            "\u001b[0;32m<ipython-input-16-8fcbf5e3bc67>\u001b[0m in \u001b[0;36m<cell line: 9>\u001b[0;34m()\u001b[0m\n\u001b[1;32m     12\u001b[0m     \u001b[0;32mfor\u001b[0m \u001b[0mk\u001b[0m \u001b[0;32min\u001b[0m \u001b[0mrange\u001b[0m\u001b[0;34m(\u001b[0m\u001b[0mN_neu\u001b[0m\u001b[0;34m)\u001b[0m\u001b[0;34m:\u001b[0m\u001b[0;34m\u001b[0m\u001b[0;34m\u001b[0m\u001b[0m\n\u001b[1;32m     13\u001b[0m       \u001b[0mweights\u001b[0m\u001b[0;34m.\u001b[0m\u001b[0mappend\u001b[0m\u001b[0;34m(\u001b[0m\u001b[0mnp\u001b[0m\u001b[0;34m.\u001b[0m\u001b[0mrandom\u001b[0m\u001b[0;34m.\u001b[0m\u001b[0mrandom\u001b[0m\u001b[0;34m(\u001b[0m\u001b[0;34m)\u001b[0m\u001b[0;34m)\u001b[0m \u001b[0;31m# Fully connected, equal sized layers\u001b[0m\u001b[0;34m\u001b[0m\u001b[0;34m\u001b[0m\u001b[0m\n\u001b[0;32m---> 14\u001b[0;31m   \u001b[0mlayers\u001b[0m\u001b[0;34m.\u001b[0m\u001b[0mappend\u001b[0m\u001b[0;34m(\u001b[0m\u001b[0mLayer\u001b[0m\u001b[0;34m(\u001b[0m\u001b[0mneurons\u001b[0m\u001b[0;34m,\u001b[0m \u001b[0mweights\u001b[0m\u001b[0;34m)\u001b[0m\u001b[0;34m)\u001b[0m\u001b[0;34m\u001b[0m\u001b[0;34m\u001b[0m\u001b[0m\n\u001b[0m\u001b[1;32m     15\u001b[0m   \u001b[0mneurons\u001b[0m \u001b[0;34m=\u001b[0m \u001b[0;34m[\u001b[0m\u001b[0;34m]\u001b[0m\u001b[0;34m\u001b[0m\u001b[0;34m\u001b[0m\u001b[0m\n\u001b[1;32m     16\u001b[0m   \u001b[0mweights\u001b[0m \u001b[0;34m=\u001b[0m \u001b[0;34m[\u001b[0m\u001b[0;34m]\u001b[0m\u001b[0;34m\u001b[0m\u001b[0;34m\u001b[0m\u001b[0m\n",
            "\u001b[0;32m<ipython-input-15-99714331aa9b>\u001b[0m in \u001b[0;36m__init__\u001b[0;34m(self, neurons, weights)\u001b[0m\n\u001b[1;32m      4\u001b[0m     \u001b[0mself\u001b[0m\u001b[0;34m.\u001b[0m\u001b[0mweights\u001b[0m \u001b[0;34m=\u001b[0m \u001b[0mweights\u001b[0m\u001b[0;34m\u001b[0m\u001b[0;34m\u001b[0m\u001b[0m\n\u001b[1;32m      5\u001b[0m \u001b[0;34m\u001b[0m\u001b[0m\n\u001b[0;32m----> 6\u001b[0;31m     \u001b[0;32massert\u001b[0m \u001b[0mlen\u001b[0m\u001b[0;34m(\u001b[0m\u001b[0mself\u001b[0m\u001b[0;34m.\u001b[0m\u001b[0mneurons\u001b[0m\u001b[0;34m)\u001b[0m \u001b[0;34m>=\u001b[0m \u001b[0mlen\u001b[0m\u001b[0;34m(\u001b[0m\u001b[0mself\u001b[0m\u001b[0;34m.\u001b[0m\u001b[0mweights\u001b[0m\u001b[0;34m)\u001b[0m\u001b[0;34m\u001b[0m\u001b[0;34m\u001b[0m\u001b[0m\n\u001b[0m\u001b[1;32m      7\u001b[0m \u001b[0;34m\u001b[0m\u001b[0m\n\u001b[1;32m      8\u001b[0m   \u001b[0;32mdef\u001b[0m \u001b[0mget_layer\u001b[0m\u001b[0;34m(\u001b[0m\u001b[0mself\u001b[0m\u001b[0;34m)\u001b[0m\u001b[0;34m:\u001b[0m\u001b[0;34m\u001b[0m\u001b[0;34m\u001b[0m\u001b[0m\n",
            "\u001b[0;31mAssertionError\u001b[0m: "
          ]
        }
      ]
    },
    {
      "cell_type": "code",
      "source": [
        "network.get_network_weights()"
      ],
      "metadata": {
        "id": "Hd47Xr6aeaSN"
      },
      "execution_count": null,
      "outputs": []
    },
    {
      "cell_type": "code",
      "source": [],
      "metadata": {
        "colab": {
          "base_uri": "https://localhost:8080/",
          "height": 166
        },
        "id": "xzdz-L75csYw",
        "outputId": "5d16935f-22a8-4add-d5d0-0f002fb0b957"
      },
      "execution_count": 12,
      "outputs": [
        {
          "output_type": "error",
          "ename": "IndexError",
          "evalue": "ignored",
          "traceback": [
            "\u001b[0;31m---------------------------------------------------------------------------\u001b[0m",
            "\u001b[0;31mIndexError\u001b[0m                                Traceback (most recent call last)",
            "\u001b[0;32m<ipython-input-12-32846c9f1507>\u001b[0m in \u001b[0;36m<cell line: 1>\u001b[0;34m()\u001b[0m\n\u001b[0;32m----> 1\u001b[0;31m \u001b[0mneurons\u001b[0m\u001b[0;34m[\u001b[0m\u001b[0;36m1\u001b[0m\u001b[0;34m]\u001b[0m\u001b[0;34m.\u001b[0m\u001b[0mfire\u001b[0m\u001b[0;34m(\u001b[0m\u001b[0;36m1\u001b[0m\u001b[0;34m)\u001b[0m\u001b[0;34m\u001b[0m\u001b[0;34m\u001b[0m\u001b[0m\n\u001b[0m",
            "\u001b[0;31mIndexError\u001b[0m: list index out of range"
          ]
        }
      ]
    }
  ]
}